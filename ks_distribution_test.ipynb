{
 "cells": [
  {
   "cell_type": "markdown",
   "id": "57ed24c3-a366-46c0-bae7-0aaec7cf84fb",
   "metadata": {},
   "source": [
    "## Potential Research Topic 1"
   ]
  },
  {
   "cell_type": "markdown",
   "id": "49660f18-140f-4fc0-a453-ec03f08d1ec7",
   "metadata": {},
   "source": [
    "#### comparision data from different years through hypothesis testing "
   ]
  },
  {
   "cell_type": "code",
   "execution_count": 1,
   "id": "f0a21cd9-8d86-419f-a8e9-dc8b86092683",
   "metadata": {},
   "outputs": [],
   "source": [
    "import pandas as pd\n",
    "from sklearn.linear_model import LinearRegression\n",
    "import statsmodels.api as sm\n",
    "import numpy as np\n",
    "import sklearn\n",
    "from sklearn.linear_model import LogisticRegression\n",
    "from sklearn.metrics import confusion_matrix\n",
    "import matplotlib.pyplot as plt\n",
    "import seaborn as sn\n",
    "import scipy.stats as sps\n",
    "\n",
    "pd.set_option('display.max_rows', 300) # specifies number of rows to show\n",
    "pd.options.display.float_format = '{:40,.4f}'.format # specifies default number format to 4 decimal places\n",
    "plt.style.use('ggplot') # specifies that graphs should use ggplot styling\n",
    "%matplotlib inline"
   ]
  },
  {
   "cell_type": "code",
   "execution_count": 4,
   "id": "dc69d74b-38e1-4314-ad59-697b2505062d",
   "metadata": {},
   "outputs": [
    {
     "name": "stdout",
     "output_type": "stream",
     "text": [
      "<class 'pandas.core.frame.DataFrame'>\n",
      "RangeIndex: 152 entries, 0 to 151\n",
      "Data columns (total 28 columns):\n",
      " #   Column                Non-Null Count  Dtype \n",
      "---  ------                --------------  ----- \n",
      " 0   local_authority_area  152 non-null    object\n",
      " 1   2008_cases_total      152 non-null    int64 \n",
      " 2   2013_cases_total      152 non-null    int64 \n",
      " 3   2018_cases_total      152 non-null    int64 \n",
      " 4   2008_pop_total        152 non-null    int64 \n",
      " 5   2013_pop_total        152 non-null    int64 \n",
      " 6   2018_pop_total        152 non-null    int64 \n",
      " 7   2008_cases_male       152 non-null    int64 \n",
      " 8   2013_cases_male       152 non-null    int64 \n",
      " 9   2018_cases_male       152 non-null    int64 \n",
      " 10  2008_pop_male         152 non-null    int64 \n",
      " 11  2013_pop_male         152 non-null    int64 \n",
      " 12  2018_pop_male         152 non-null    int64 \n",
      " 13  2008_cases_female     152 non-null    int64 \n",
      " 14  2013_cases_female     152 non-null    int64 \n",
      " 15  2018_cases_female     152 non-null    int64 \n",
      " 16  2008_pop_female       152 non-null    int64 \n",
      " 17  2013_pop_female       152 non-null    int64 \n",
      " 18  2018_pop_female       152 non-null    int64 \n",
      " 19  total_budget          152 non-null    int64 \n",
      " 20  clean_air             152 non-null    int64 \n",
      " 21  clean_environ         152 non-null    int64 \n",
      " 22  health_training       152 non-null    int64 \n",
      " 23  school_awareness      152 non-null    int64 \n",
      " 24  media_awareness       152 non-null    int64 \n",
      " 25  sub_counselling       152 non-null    int64 \n",
      " 26  region                152 non-null    object\n",
      " 27  local_authority_type  152 non-null    object\n",
      "dtypes: int64(25), object(3)\n",
      "memory usage: 33.4+ KB\n"
     ]
    }
   ],
   "source": [
    "alldata=pd.read_csv('coursework_1_data_2019.csv')\n",
    "alldata.info()"
   ]
  },
  {
   "cell_type": "code",
   "execution_count": 5,
   "id": "05e9d57e-e697-4f41-804b-7020e4cc354b",
   "metadata": {},
   "outputs": [
    {
     "data": {
      "text/html": [
       "<div>\n",
       "<style scoped>\n",
       "    .dataframe tbody tr th:only-of-type {\n",
       "        vertical-align: middle;\n",
       "    }\n",
       "\n",
       "    .dataframe tbody tr th {\n",
       "        vertical-align: top;\n",
       "    }\n",
       "\n",
       "    .dataframe thead th {\n",
       "        text-align: right;\n",
       "    }\n",
       "</style>\n",
       "<table border=\"1\" class=\"dataframe\">\n",
       "  <thead>\n",
       "    <tr style=\"text-align: right;\">\n",
       "      <th></th>\n",
       "      <th>local_authority_area</th>\n",
       "      <th>2008_cases_total</th>\n",
       "      <th>2013_cases_total</th>\n",
       "      <th>2018_cases_total</th>\n",
       "      <th>2008_pop_total</th>\n",
       "      <th>2013_pop_total</th>\n",
       "      <th>2018_pop_total</th>\n",
       "      <th>2008_cases_male</th>\n",
       "      <th>2013_cases_male</th>\n",
       "      <th>2018_cases_male</th>\n",
       "      <th>...</th>\n",
       "      <th>clean_environ</th>\n",
       "      <th>health_training</th>\n",
       "      <th>school_awareness</th>\n",
       "      <th>media_awareness</th>\n",
       "      <th>sub_counselling</th>\n",
       "      <th>region</th>\n",
       "      <th>local_authority_type</th>\n",
       "      <th>2008percentage</th>\n",
       "      <th>2018percentage</th>\n",
       "      <th>percentage_change</th>\n",
       "    </tr>\n",
       "  </thead>\n",
       "  <tbody>\n",
       "    <tr>\n",
       "      <th>0</th>\n",
       "      <td>Barking and Dagenham</td>\n",
       "      <td>593</td>\n",
       "      <td>619</td>\n",
       "      <td>763</td>\n",
       "      <td>172684</td>\n",
       "      <td>179030</td>\n",
       "      <td>181779</td>\n",
       "      <td>187</td>\n",
       "      <td>190</td>\n",
       "      <td>230</td>\n",
       "      <td>...</td>\n",
       "      <td>22000</td>\n",
       "      <td>18000</td>\n",
       "      <td>41000</td>\n",
       "      <td>18000</td>\n",
       "      <td>19000</td>\n",
       "      <td>London</td>\n",
       "      <td>london_borough</td>\n",
       "      <td>0.0034</td>\n",
       "      <td>0.0042</td>\n",
       "      <td>0.0008</td>\n",
       "    </tr>\n",
       "    <tr>\n",
       "      <th>1</th>\n",
       "      <td>Barnet</td>\n",
       "      <td>539</td>\n",
       "      <td>594</td>\n",
       "      <td>773</td>\n",
       "      <td>340435</td>\n",
       "      <td>344062</td>\n",
       "      <td>355955</td>\n",
       "      <td>212</td>\n",
       "      <td>204</td>\n",
       "      <td>292</td>\n",
       "      <td>...</td>\n",
       "      <td>17000</td>\n",
       "      <td>23000</td>\n",
       "      <td>74000</td>\n",
       "      <td>30000</td>\n",
       "      <td>26000</td>\n",
       "      <td>London</td>\n",
       "      <td>london_borough</td>\n",
       "      <td>0.0016</td>\n",
       "      <td>0.0022</td>\n",
       "      <td>0.0006</td>\n",
       "    </tr>\n",
       "    <tr>\n",
       "      <th>2</th>\n",
       "      <td>Barnsley</td>\n",
       "      <td>360</td>\n",
       "      <td>451</td>\n",
       "      <td>527</td>\n",
       "      <td>226755</td>\n",
       "      <td>244010</td>\n",
       "      <td>257883</td>\n",
       "      <td>148</td>\n",
       "      <td>186</td>\n",
       "      <td>212</td>\n",
       "      <td>...</td>\n",
       "      <td>45000</td>\n",
       "      <td>5000</td>\n",
       "      <td>26000</td>\n",
       "      <td>29000</td>\n",
       "      <td>14000</td>\n",
       "      <td>Yorkshire and the Humber</td>\n",
       "      <td>metropolitan_borough</td>\n",
       "      <td>0.0016</td>\n",
       "      <td>0.0020</td>\n",
       "      <td>0.0005</td>\n",
       "    </tr>\n",
       "    <tr>\n",
       "      <th>3</th>\n",
       "      <td>Bath and North East Somerset</td>\n",
       "      <td>456</td>\n",
       "      <td>421</td>\n",
       "      <td>494</td>\n",
       "      <td>178625</td>\n",
       "      <td>172975</td>\n",
       "      <td>189334</td>\n",
       "      <td>157</td>\n",
       "      <td>129</td>\n",
       "      <td>156</td>\n",
       "      <td>...</td>\n",
       "      <td>42000</td>\n",
       "      <td>19000</td>\n",
       "      <td>50000</td>\n",
       "      <td>10000</td>\n",
       "      <td>7000</td>\n",
       "      <td>South West</td>\n",
       "      <td>unitary_authority</td>\n",
       "      <td>0.0026</td>\n",
       "      <td>0.0026</td>\n",
       "      <td>0.0001</td>\n",
       "    </tr>\n",
       "    <tr>\n",
       "      <th>4</th>\n",
       "      <td>Bedford</td>\n",
       "      <td>311</td>\n",
       "      <td>327</td>\n",
       "      <td>367</td>\n",
       "      <td>158185</td>\n",
       "      <td>164807</td>\n",
       "      <td>170463</td>\n",
       "      <td>138</td>\n",
       "      <td>145</td>\n",
       "      <td>156</td>\n",
       "      <td>...</td>\n",
       "      <td>52000</td>\n",
       "      <td>17000</td>\n",
       "      <td>8000</td>\n",
       "      <td>3000</td>\n",
       "      <td>13000</td>\n",
       "      <td>East of England</td>\n",
       "      <td>unitary_authority</td>\n",
       "      <td>0.0020</td>\n",
       "      <td>0.0022</td>\n",
       "      <td>0.0002</td>\n",
       "    </tr>\n",
       "  </tbody>\n",
       "</table>\n",
       "<p>5 rows × 31 columns</p>\n",
       "</div>"
      ],
      "text/plain": [
       "           local_authority_area  2008_cases_total  2013_cases_total  \\\n",
       "0          Barking and Dagenham               593               619   \n",
       "1                        Barnet               539               594   \n",
       "2                      Barnsley               360               451   \n",
       "3  Bath and North East Somerset               456               421   \n",
       "4                       Bedford               311               327   \n",
       "\n",
       "   2018_cases_total  2008_pop_total  2013_pop_total  2018_pop_total  \\\n",
       "0               763          172684          179030          181779   \n",
       "1               773          340435          344062          355955   \n",
       "2               527          226755          244010          257883   \n",
       "3               494          178625          172975          189334   \n",
       "4               367          158185          164807          170463   \n",
       "\n",
       "   2008_cases_male  2013_cases_male  2018_cases_male  ...  clean_environ  \\\n",
       "0              187              190              230  ...          22000   \n",
       "1              212              204              292  ...          17000   \n",
       "2              148              186              212  ...          45000   \n",
       "3              157              129              156  ...          42000   \n",
       "4              138              145              156  ...          52000   \n",
       "\n",
       "   health_training  school_awareness  media_awareness  sub_counselling  \\\n",
       "0            18000             41000            18000            19000   \n",
       "1            23000             74000            30000            26000   \n",
       "2             5000             26000            29000            14000   \n",
       "3            19000             50000            10000             7000   \n",
       "4            17000              8000             3000            13000   \n",
       "\n",
       "                     region  local_authority_type  \\\n",
       "0                    London        london_borough   \n",
       "1                    London        london_borough   \n",
       "2  Yorkshire and the Humber  metropolitan_borough   \n",
       "3                South West     unitary_authority   \n",
       "4           East of England     unitary_authority   \n",
       "\n",
       "                            2008percentage  \\\n",
       "0                                   0.0034   \n",
       "1                                   0.0016   \n",
       "2                                   0.0016   \n",
       "3                                   0.0026   \n",
       "4                                   0.0020   \n",
       "\n",
       "                            2018percentage  \\\n",
       "0                                   0.0042   \n",
       "1                                   0.0022   \n",
       "2                                   0.0020   \n",
       "3                                   0.0026   \n",
       "4                                   0.0022   \n",
       "\n",
       "                         percentage_change  \n",
       "0                                   0.0008  \n",
       "1                                   0.0006  \n",
       "2                                   0.0005  \n",
       "3                                   0.0001  \n",
       "4                                   0.0002  \n",
       "\n",
       "[5 rows x 31 columns]"
      ]
     },
     "execution_count": 5,
     "metadata": {},
     "output_type": "execute_result"
    }
   ],
   "source": [
    "alldata['2008percentage'] = alldata['2008_cases_total']/alldata['2008_pop_total']\n",
    "alldata['2018percentage'] = alldata['2018_cases_total']/alldata['2018_pop_total']\n",
    "alldata['percentage_change'] = alldata['2018percentage']-alldata['2008percentage']\n",
    "alldata.head()"
   ]
  },
  {
   "cell_type": "code",
   "execution_count": 15,
   "id": "57c24c8d-5371-4c08-89e6-190983d2c9fe",
   "metadata": {},
   "outputs": [],
   "source": [
    "import scipy.stats as sps\n",
    "X1=alldata['2008percentage']\n",
    "X2=alldata['2018percentage']\n"
   ]
  },
  {
   "cell_type": "code",
   "execution_count": 12,
   "id": "94e5c5ef-0fca-48fe-ad01-79bd8d0f5dc7",
   "metadata": {},
   "outputs": [],
   "source": [
    "\n",
    "X1=alldata['2018_pop_female']\n",
    "X2=alldata['2018_pop_male']"
   ]
  },
  {
   "cell_type": "code",
   "execution_count": 16,
   "id": "f3143a5a-6671-4a81-bee3-1aa1d8bf1408",
   "metadata": {},
   "outputs": [
    {
     "data": {
      "text/plain": [
       "[<matplotlib.lines.Line2D at 0x7fb5672b1460>]"
      ]
     },
     "execution_count": 16,
     "metadata": {},
     "output_type": "execute_result"
    },
    {
     "data": {
      "image/png": "[encoded data removed]",
      "text/plain": [
       "<Figure size 432x288 with 1 Axes>"
      ]
     },
     "metadata": {
      "needs_background": "light"
     },
     "output_type": "display_data"
    }
   ],
   "source": [
    "plt.plot(X1)\n",
    "plt.plot(X2)\n",
    "plt.plot(alldata['percentage_change'])"
   ]
  },
  {
   "cell_type": "code",
   "execution_count": 14,
   "id": "e166e0fe-6d33-4dd2-b235-d14b55957e43",
   "metadata": {},
   "outputs": [
    {
     "data": {
      "text/plain": [
       "(0.1513157894736842, 0.06148333786777038)"
      ]
     },
     "execution_count": 14,
     "metadata": {},
     "output_type": "execute_result"
    }
   ],
   "source": [
    "KSstat,pval=sps.ks_2samp(X1,X2)\n",
    "KSstat,pval"
   ]
  },
  {
   "cell_type": "code",
   "execution_count": null,
   "id": "b36f2917-3da4-4171-b586-26f5be41c98d",
   "metadata": {},
   "outputs": [],
   "source": []
  }
 ],
 "metadata": {
  "kernelspec": {
   "display_name": "Python 3 (ipykernel)",
   "language": "python",
   "name": "python3"
  },
  "language_info": {
   "codemirror_mode": {
    "name": "ipython",
    "version": 3
   },
   "file_extension": ".py",
   "mimetype": "text/x-python",
   "name": "python",
   "nbconvert_exporter": "python",
   "pygments_lexer": "ipython3",
   "version": "3.9.6"
  }
 },
 "nbformat": 4,
 "nbformat_minor": 5
}
