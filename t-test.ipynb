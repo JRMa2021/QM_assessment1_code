{
 "cells": [
  {
   "cell_type": "code",
   "execution_count": 20,
   "id": "b65d2490-490c-479f-bcaa-d88158950641",
   "metadata": {
    "collapsed": true,
    "jupyter": {
     "outputs_hidden": true
    },
    "tags": []
   },
   "outputs": [
    {
     "name": "stdout",
     "output_type": "stream",
     "text": [
      "<class 'pandas.core.frame.DataFrame'>\n",
      "RangeIndex: 152 entries, 0 to 151\n",
      "Data columns (total 28 columns):\n",
      " #   Column                Non-Null Count  Dtype \n",
      "---  ------                --------------  ----- \n",
      " 0   local_authority_area  152 non-null    object\n",
      " 1   2008_cases_total      152 non-null    int64 \n",
      " 2   2013_cases_total      152 non-null    int64 \n",
      " 3   2018_cases_total      152 non-null    int64 \n",
      " 4   2008_pop_total        152 non-null    int64 \n",
      " 5   2013_pop_total        152 non-null    int64 \n",
      " 6   2018_pop_total        152 non-null    int64 \n",
      " 7   2008_cases_male       152 non-null    int64 \n",
      " 8   2013_cases_male       152 non-null    int64 \n",
      " 9   2018_cases_male       152 non-null    int64 \n",
      " 10  2008_pop_male         152 non-null    int64 \n",
      " 11  2013_pop_male         152 non-null    int64 \n",
      " 12  2018_pop_male         152 non-null    int64 \n",
      " 13  2008_cases_female     152 non-null    int64 \n",
      " 14  2013_cases_female     152 non-null    int64 \n",
      " 15  2018_cases_female     152 non-null    int64 \n",
      " 16  2008_pop_female       152 non-null    int64 \n",
      " 17  2013_pop_female       152 non-null    int64 \n",
      " 18  2018_pop_female       152 non-null    int64 \n",
      " 19  total_budget          152 non-null    int64 \n",
      " 20  clean_air             152 non-null    int64 \n",
      " 21  clean_environ         152 non-null    int64 \n",
      " 22  health_training       152 non-null    int64 \n",
      " 23  school_awareness      152 non-null    int64 \n",
      " 24  media_awareness       152 non-null    int64 \n",
      " 25  sub_counselling       152 non-null    int64 \n",
      " 26  region                152 non-null    object\n",
      " 27  local_authority_type  152 non-null    object\n",
      "dtypes: int64(25), object(3)\n",
      "memory usage: 33.4+ KB\n"
     ]
    }
   ],
   "source": [
    "# import relevant packages\n",
    "# So sorry that I made a mistake in the results. I deleted my Figure 3, but forgot to delete the sentence describing it.\n", 
    "# Sorry for the confusion, I know there will be a big deduction because of it. Thank you for taking the time to grade my assessment!\n", 
    "\n",
    "import numpy as np\n",
    "import scipy.stats as sps\n",
    "import pandas as pd\n",
    "import matplotlib.pyplot as plt\n",
    "import seaborn as sns\n",
    "\n",
    "%matplotlib inline\n",
    "\n",
    "# UNCOMMENT THE FOLLOWING IF USING GOOGLE COLAB\n",
    "#from google.colab import files\n",
    "#uploaded = files.upload()\n",
    "\n",
    "# In the next line, replace sample_boxplot_data.csv with the filename of your data:\n",
    "alldata=pd.read_csv('data_2019.csv')\n",
    "alldata.info()"
   ]
  },
  {
   "cell_type": "code",
   "execution_count": 15,
   "id": "b03e9c55-8eab-4fac-a2b8-7cd342759528",
   "metadata": {
    "collapsed": true,
    "jupyter": {
     "outputs_hidden": true
    },
    "tags": []
   },
   "outputs": [
    {
     "data": {
      "text/html": [
       "<div>\n",
       "<style scoped>\n",
       "    .dataframe tbody tr th:only-of-type {\n",
       "        vertical-align: middle;\n",
       "    }\n",
       "\n",
       "    .dataframe tbody tr th {\n",
       "        vertical-align: top;\n",
       "    }\n",
       "\n",
       "    .dataframe thead th {\n",
       "        text-align: right;\n",
       "    }\n",
       "</style>\n",
       "<table border=\"1\" class=\"dataframe\">\n",
       "  <thead>\n",
       "    <tr style=\"text-align: right;\">\n",
       "      <th></th>\n",
       "      <th>local_authority_area</th>\n",
       "      <th>2008_cases_total</th>\n",
       "      <th>2013_cases_total</th>\n",
       "      <th>2018_cases_total</th>\n",
       "      <th>2008_pop_total</th>\n",
       "      <th>2013_pop_total</th>\n",
       "      <th>2018_pop_total</th>\n",
       "      <th>2008_cases_male</th>\n",
       "      <th>2013_cases_male</th>\n",
       "      <th>2018_cases_male</th>\n",
       "      <th>...</th>\n",
       "      <th>prop_2018</th>\n",
       "      <th>change_08_13</th>\n",
       "      <th>change_13_18</th>\n",
       "      <th>change_08_18</th>\n",
       "      <th>male_2008_p</th>\n",
       "      <th>male_2013_p</th>\n",
       "      <th>male_2018_p</th>\n",
       "      <th>female_2008_p</th>\n",
       "      <th>female_2013_p</th>\n",
       "      <th>female_2018_p</th>\n",
       "    </tr>\n",
       "  </thead>\n",
       "  <tbody>\n",
       "    <tr>\n",
       "      <th>0</th>\n",
       "      <td>Isles of Scilly</td>\n",
       "      <td>5</td>\n",
       "      <td>1</td>\n",
       "      <td>4</td>\n",
       "      <td>2200</td>\n",
       "      <td>2385</td>\n",
       "      <td>2440</td>\n",
       "      <td>2</td>\n",
       "      <td>0</td>\n",
       "      <td>1</td>\n",
       "      <td>...</td>\n",
       "      <td>0.001639</td>\n",
       "      <td>-0.001853</td>\n",
       "      <td>0.001220</td>\n",
       "      <td>-0.000633</td>\n",
       "      <td>0.001843</td>\n",
       "      <td>0.000000</td>\n",
       "      <td>0.000701</td>\n",
       "      <td>0.002691</td>\n",
       "      <td>0.000926</td>\n",
       "      <td>0.002959</td>\n",
       "    </tr>\n",
       "    <tr>\n",
       "      <th>1</th>\n",
       "      <td>Rutland</td>\n",
       "      <td>88</td>\n",
       "      <td>102</td>\n",
       "      <td>86</td>\n",
       "      <td>38363</td>\n",
       "      <td>39872</td>\n",
       "      <td>42952</td>\n",
       "      <td>28</td>\n",
       "      <td>23</td>\n",
       "      <td>26</td>\n",
       "      <td>...</td>\n",
       "      <td>0.002002</td>\n",
       "      <td>0.000264</td>\n",
       "      <td>-0.000556</td>\n",
       "      <td>-0.000292</td>\n",
       "      <td>0.001478</td>\n",
       "      <td>0.001133</td>\n",
       "      <td>0.001121</td>\n",
       "      <td>0.003089</td>\n",
       "      <td>0.004038</td>\n",
       "      <td>0.003037</td>\n",
       "    </tr>\n",
       "    <tr>\n",
       "      <th>2</th>\n",
       "      <td>Milton Keynes</td>\n",
       "      <td>839</td>\n",
       "      <td>869</td>\n",
       "      <td>867</td>\n",
       "      <td>234508</td>\n",
       "      <td>246600</td>\n",
       "      <td>252016</td>\n",
       "      <td>314</td>\n",
       "      <td>327</td>\n",
       "      <td>295</td>\n",
       "      <td>...</td>\n",
       "      <td>0.003440</td>\n",
       "      <td>-0.000054</td>\n",
       "      <td>-0.000084</td>\n",
       "      <td>-0.000137</td>\n",
       "      <td>0.002739</td>\n",
       "      <td>0.002773</td>\n",
       "      <td>0.002504</td>\n",
       "      <td>0.004379</td>\n",
       "      <td>0.004212</td>\n",
       "      <td>0.004262</td>\n",
       "    </tr>\n",
       "    <tr>\n",
       "      <th>3</th>\n",
       "      <td>Wiltshire</td>\n",
       "      <td>1372</td>\n",
       "      <td>1474</td>\n",
       "      <td>1516</td>\n",
       "      <td>457236</td>\n",
       "      <td>493515</td>\n",
       "      <td>522318</td>\n",
       "      <td>472</td>\n",
       "      <td>520</td>\n",
       "      <td>521</td>\n",
       "      <td>...</td>\n",
       "      <td>0.002902</td>\n",
       "      <td>-0.000014</td>\n",
       "      <td>-0.000084</td>\n",
       "      <td>-0.000098</td>\n",
       "      <td>0.002081</td>\n",
       "      <td>0.002090</td>\n",
       "      <td>0.001972</td>\n",
       "      <td>0.003906</td>\n",
       "      <td>0.003899</td>\n",
       "      <td>0.003856</td>\n",
       "    </tr>\n",
       "    <tr>\n",
       "      <th>4</th>\n",
       "      <td>Torbay</td>\n",
       "      <td>615</td>\n",
       "      <td>622</td>\n",
       "      <td>633</td>\n",
       "      <td>134925</td>\n",
       "      <td>136936</td>\n",
       "      <td>141873</td>\n",
       "      <td>169</td>\n",
       "      <td>173</td>\n",
       "      <td>200</td>\n",
       "      <td>...</td>\n",
       "      <td>0.004462</td>\n",
       "      <td>-0.000016</td>\n",
       "      <td>-0.000081</td>\n",
       "      <td>-0.000096</td>\n",
       "      <td>0.002591</td>\n",
       "      <td>0.002485</td>\n",
       "      <td>0.002664</td>\n",
       "      <td>0.006400</td>\n",
       "      <td>0.006669</td>\n",
       "      <td>0.006483</td>\n",
       "    </tr>\n",
       "  </tbody>\n",
       "</table>\n",
       "<p>5 rows × 40 columns</p>\n",
       "</div>"
      ],
      "text/plain": [
       "  local_authority_area  2008_cases_total  2013_cases_total  2018_cases_total  \\\n",
       "0      Isles of Scilly                 5                 1                 4   \n",
       "1              Rutland                88               102                86   \n",
       "2        Milton Keynes               839               869               867   \n",
       "3            Wiltshire              1372              1474              1516   \n",
       "4               Torbay               615               622               633   \n",
       "\n",
       "   2008_pop_total  2013_pop_total  2018_pop_total  2008_cases_male  \\\n",
       "0            2200            2385            2440                2   \n",
       "1           38363           39872           42952               28   \n",
       "2          234508          246600          252016              314   \n",
       "3          457236          493515          522318              472   \n",
       "4          134925          136936          141873              169   \n",
       "\n",
       "   2013_cases_male  2018_cases_male  ...  prop_2018  change_08_13  \\\n",
       "0                0                1  ...   0.001639     -0.001853   \n",
       "1               23               26  ...   0.002002      0.000264   \n",
       "2              327              295  ...   0.003440     -0.000054   \n",
       "3              520              521  ...   0.002902     -0.000014   \n",
       "4              173              200  ...   0.004462     -0.000016   \n",
       "\n",
       "   change_13_18  change_08_18  male_2008_p  male_2013_p  male_2018_p  \\\n",
       "0      0.001220     -0.000633     0.001843     0.000000     0.000701   \n",
       "1     -0.000556     -0.000292     0.001478     0.001133     0.001121   \n",
       "2     -0.000084     -0.000137     0.002739     0.002773     0.002504   \n",
       "3     -0.000084     -0.000098     0.002081     0.002090     0.001972   \n",
       "4     -0.000081     -0.000096     0.002591     0.002485     0.002664   \n",
       "\n",
       "   female_2008_p  female_2013_p  female_2018_p  \n",
       "0       0.002691       0.000926       0.002959  \n",
       "1       0.003089       0.004038       0.003037  \n",
       "2       0.004379       0.004212       0.004262  \n",
       "3       0.003906       0.003899       0.003856  \n",
       "4       0.006400       0.006669       0.006483  \n",
       "\n",
       "[5 rows x 40 columns]"
      ]
     },
     "execution_count": 15,
     "metadata": {},
     "output_type": "execute_result"
    }
   ],
   "source": [
    "alldata['prop_2008'] = alldata['2008_cases_total']/alldata['2008_pop_total']\n",
    "alldata['prop_2013'] = alldata['2013_cases_total']/alldata['2013_pop_total']\n",
    "alldata['prop_2018'] = alldata['2018_cases_total']/alldata['2018_pop_total']\n",
    "alldata['change_08_13'] = alldata['prop_2013']-alldata['prop_2008']\n",
    "alldata['change_13_18'] = alldata['prop_2018']-alldata['prop_2013']\n",
    "alldata['change_08_18'] = alldata['prop_2018']-alldata['prop_2008']\n",
    "alldata['male_2008_p'] = alldata['2008_cases_male']/alldata['2008_pop_male']\n",
    "alldata['male_2013_p'] = alldata['2013_cases_male']/alldata['2013_pop_male']\n",
    "alldata['male_2018_p'] = alldata['2018_cases_male']/alldata['2018_pop_male']\n",
    "alldata['female_2008_p'] = alldata['2008_cases_female']/alldata['2008_pop_female']\n",
    "alldata['female_2013_p'] = alldata['2013_cases_female']/alldata['2013_pop_female']\n",
    "alldata['female_2018_p'] = alldata['2018_cases_female']/alldata['2018_pop_female']\n",
    "\n",
    "alldata.head()"
   ]
  },
  {
   "cell_type": "code",
   "execution_count": 16,
   "id": "bdaa59d0-98de-403f-a1af-e6046ae40891",
   "metadata": {},
   "outputs": [],
   "source": [
    "data=alldata"
   ]
  },
  {
   "cell_type": "code",
   "execution_count": 17,
   "id": "650b36a5-1e91-474c-ac46-0ca9cbab7f16",
   "metadata": {
    "tags": []
   },
   "outputs": [],
   "source": [
    "alpha = 0.05\n",
    "std2008=0.001371\n",
    "std2013=0.001391\n",
    "std2018=0.001387"
   ]
  },
  {
   "cell_type": "code",
   "execution_count": 12,
   "id": "a4ba1b52-4279-4c05-a192-1f6a535b4e7d",
   "metadata": {
    "collapsed": true,
    "jupyter": {
     "outputs_hidden": true,
     "source_hidden": true
    },
    "tags": []
   },
   "outputs": [
    {
     "name": "stdout",
     "output_type": "stream",
     "text": [
      "p-value = 0.4779845515352684\n",
      "p-value >= significance threshold.\n",
      "No significant evidence to reject H0.\n",
      "Assume samples are drawn from populations with the same mean.\n"
     ]
    }
   ],
   "source": [
    "data1 = data['prop_2008']\n",
    "data2 = data['prop_2013']\n",
    "test_stat, p_value = sps.ttest_ind(data1, data2, equal_var = equal_stds)\n",
    "print(\"p-value =\", p_value)\n",
    "\n",
    "if p_value < alpha:\n",
    "    print(\"p-value < significance threshold.\")\n",
    "    print(\"Reject H0. Accept H1.\")\n",
    "    print(\"Conclude that samples are drawn from populations with different means.\")\n",
    "elif p_value >= alpha:\n",
    "    print(\"p-value >= significance threshold.\")\n",
    "    print(\"No significant evidence to reject H0.\")\n",
    "    print(\"Assume samples are drawn from populations with the same mean.\")"
   ]
  },
  {
   "cell_type": "code",
   "execution_count": 18,
   "id": "6b1bd386-8852-4e64-a250-9a288d22890b",
   "metadata": {
    "tags": []
   },
   "outputs": [
    {
     "name": "stdout",
     "output_type": "stream",
     "text": [
      "std_ratio = 0.9856218547807333\n",
      "Can assume equal population standard deviations.\n",
      "p-value = 0.4779845515352684\n",
      "p-value >= significance threshold.\n",
      "No significant evidence to reject H0.\n",
      "Assume samples are drawn from populations with the same mean.\n"
     ]
    }
   ],
   "source": [
    "std_ratio = std2008/std2013\n",
    "print(\"std_ratio =\", std_ratio)\n",
    "if std_ratio > 0.5 and std_ratio < 2:\n",
    "    print(\"Can assume equal population standard deviations.\")\n",
    "    equal_stds = True\n",
    "else:\n",
    "    print(\"Cannot assume equal population standard deviations.\")\n",
    "    equal_stds = False\n",
    "\n",
    "data1 = data['prop_2008']\n",
    "data2 = data['prop_2013']\n",
    "test_stat, p_value = sps.ttest_ind(data1, data2, equal_var = equal_stds)\n",
    "print(\"p-value =\", p_value)\n",
    "\n",
    "if p_value < alpha:\n",
    "    print(\"p-value < significance threshold.\")\n",
    "    print(\"Reject H0. Accept H1.\")\n",
    "    print(\"Conclude that samples are drawn from populations with different means.\")\n",
    "elif p_value >= alpha:\n",
    "    print(\"p-value >= significance threshold.\")\n",
    "    print(\"No significant evidence to reject H0.\")\n",
    "    print(\"Assume samples are drawn from populations with the same mean.\")"
   ]
  },
  {
   "cell_type": "code",
   "execution_count": 19,
   "id": "c416dbe0-aed6-4981-9fda-1bd4e02197e3",
   "metadata": {
    "tags": []
   },
   "outputs": [
    {
     "name": "stdout",
     "output_type": "stream",
     "text": [
      "std_ratio = 1.0028839221341024\n",
      "Can assume equal population standard deviations.\n",
      "p-value = 0.13802291646844367\n",
      "p-value >= significance threshold.\n",
      "No significant evidence to reject H0.\n",
      "Assume samples are drawn from populations with the same mean.\n"
     ]
    }
   ],
   "source": [
    "std_ratio = std2013/std2018\n",
    "print(\"std_ratio =\", std_ratio)\n",
    "if std_ratio > 0.5 and std_ratio < 2:\n",
    "    print(\"Can assume equal population standard deviations.\")\n",
    "    equal_stds = True\n",
    "else:\n",
    "    print(\"Cannot assume equal population standard deviations.\")\n",
    "    equal_stds = False\n",
    "\n",
    "data3 = data['prop_2013']\n",
    "data4 = data['prop_2018']\n",
    "test_stat, p_value = sps.ttest_ind(data3, data4, equal_var = equal_stds)\n",
    "print(\"p-value =\", p_value)\n",
    "\n",
    "if p_value < alpha:\n",
    "    print(\"p-value < significance threshold.\")\n",
    "    print(\"Reject H0. Accept H1.\")\n",
    "    print(\"Conclude that samples are drawn from populations with different means.\")\n",
    "elif p_value >= alpha:\n",
    "    print(\"p-value >= significance threshold.\")\n",
    "    print(\"No significant evidence to reject H0.\")\n",
    "    print(\"Assume samples are drawn from populations with the same mean.\")"
   ]
  },
  {
   "cell_type": "code",
   "execution_count": 21,
   "id": "f7758e68-4d1b-4d95-9f31-23901bae6f72",
   "metadata": {},
   "outputs": [
    {
     "name": "stdout",
     "output_type": "stream",
     "text": [
      "std_ratio = 0.9884643114635905\n",
      "Can assume equal population standard deviations.\n",
      "p-value = 0.02788828028675412\n",
      "p-value < significance threshold.\n",
      "Reject H0. Accept H1.\n",
      "Conclude that samples are drawn from populations with different means.\n"
     ]
    }
   ],
   "source": [
    "std_ratio = std2008/std2018\n",
    "print(\"std_ratio =\", std_ratio)\n",
    "if std_ratio > 0.5 and std_ratio < 2:\n",
    "    print(\"Can assume equal population standard deviations.\")\n",
    "    equal_stds = True\n",
    "else:\n",
    "    print(\"Cannot assume equal population standard deviations.\")\n",
    "    equal_stds = False\n",
    "\n",
    "test_stat, p_value = sps.ttest_ind(data1, data4, equal_var = equal_stds)\n",
    "print(\"p-value =\", p_value)\n",
    "\n",
    "if p_value < alpha:\n",
    "    print(\"p-value < significance threshold.\")\n",
    "    print(\"Reject H0. Accept H1.\")\n",
    "    print(\"Conclude that samples are drawn from populations with different means.\")\n",
    "elif p_value >= alpha:\n",
    "    print(\"p-value >= significance threshold.\")\n",
    "    print(\"No significant evidence to reject H0.\")\n",
    "    print(\"Assume samples are drawn from populations with the same mean.\")"
   ]
  },
  {
   "cell_type": "code",
   "execution_count": 5,
   "id": "e1c2faf1-2d63-409d-bb93-17dcd6f252bf",
   "metadata": {
    "collapsed": true,
    "jupyter": {
     "outputs_hidden": true,
     "source_hidden": true
    },
    "tags": []
   },
   "outputs": [
    {
     "data": {
      "text/plain": [
       "-5.9190686948160876"
      ]
     },
     "execution_count": 5,
     "metadata": {},
     "output_type": "execute_result"
    },
    {
     "data": {
      "image/png": "[encoded data removed]",
      "text/plain": [
       "<Figure size 360x360 with 1 Axes>"
      ]
     },
     "metadata": {
      "needs_background": "light"
     },
     "output_type": "display_data"
    }
   ],
   "source": [
    "sns.displot(data['change_08_13'])\n",
    "data.change_08_13.skew()"
   ]
  },
  {
   "cell_type": "code",
   "execution_count": 10,
   "id": "046e07f1-0325-4ee4-aae4-3d6c08e29c0d",
   "metadata": {
    "collapsed": true,
    "jupyter": {
     "outputs_hidden": true,
     "source_hidden": true
    },
    "tags": []
   },
   "outputs": [
    {
     "data": {
      "text/plain": [
       "{'whiskers': [<matplotlib.lines.Line2D at 0x7f7de7986670>,\n",
       "  <matplotlib.lines.Line2D at 0x7f7de7986940>],\n",
       " 'caps': [<matplotlib.lines.Line2D at 0x7f7de7986cd0>,\n",
       "  <matplotlib.lines.Line2D at 0x7f7de79910a0>],\n",
       " 'boxes': [<matplotlib.lines.Line2D at 0x7f7de7986220>],\n",
       " 'medians': [<matplotlib.lines.Line2D at 0x7f7de7991430>],\n",
       " 'fliers': [<matplotlib.lines.Line2D at 0x7f7de79917c0>],\n",
       " 'means': []}"
      ]
     },
     "execution_count": 10,
     "metadata": {},
     "output_type": "execute_result"
    },
    {
     "data": {
      "image/png": "[encoded data removed]",
      "text/plain": [
       "<Figure size 720x576 with 1 Axes>"
      ]
     },
     "metadata": {
      "needs_background": "light"
     },
     "output_type": "display_data"
    }
   ],
   "source": [
    "plt.figure(figsize=(10,8))\n",
    "\n",
    "# Uncomment the next three lines to set the axis limits (otherwise they will be set automatically):\n",
    "#axis_min = 0.95\n",
    "#axis_max = 4.05\n",
    "#plt.ylim([axis_min,axis_max])\n",
    "\n",
    "# The next lines create and save the plot:\n",
    "plt.xlim([0.75,1.25])\n",
    "plt.xticks([])\n",
    "plt.boxplot(data['change_08_13'], manage_ticks=(False))"
   ]
  },
  {
   "cell_type": "code",
   "execution_count": 11,
   "id": "3b897ba9-2e48-42d3-9579-14ea8cc56ea9",
   "metadata": {
    "collapsed": true,
    "jupyter": {
     "outputs_hidden": true,
     "source_hidden": true
    },
    "tags": []
   },
   "outputs": [
    {
     "data": {
      "text/plain": [
       "0   -0.001853\n",
       "Name: change_08_13, dtype: float64"
      ]
     },
     "execution_count": 11,
     "metadata": {},
     "output_type": "execute_result"
    }
   ],
   "source": [
    "def detect_outliers(sr):\n",
    "    q1 = sr.quantile(0.25)\n",
    "    q3 = sr.quantile(0.75)\n",
    "    iqr = q3-q1 #Interquartile range\n",
    "    fence_low  = q1-1.5*iqr\n",
    "    fence_high = q3+1.5*iqr\n",
    "    outliers = sr.loc[(sr < fence_low) | (sr > fence_high)]\n",
    "    return outliers\n",
    "detect_outliers(data['change_08_13'])"
   ]
  },
  {
   "cell_type": "code",
   "execution_count": 21,
   "id": "e702f143-aff8-48ec-84df-36ff2b579eb1",
   "metadata": {
    "collapsed": true,
    "jupyter": {
     "outputs_hidden": true,
     "source_hidden": true
    },
    "tags": []
   },
   "outputs": [
    {
     "name": "stdout",
     "output_type": "stream",
     "text": [
      "<class 'pandas.core.frame.DataFrame'>\n",
      "Int64Index: 151 entries, 1 to 151\n",
      "Data columns (total 40 columns):\n",
      " #   Column                Non-Null Count  Dtype  \n",
      "---  ------                --------------  -----  \n",
      " 0   local_authority_area  151 non-null    object \n",
      " 1   2008_cases_total      151 non-null    int64  \n",
      " 2   2013_cases_total      151 non-null    int64  \n",
      " 3   2018_cases_total      151 non-null    int64  \n",
      " 4   2008_pop_total        151 non-null    int64  \n",
      " 5   2013_pop_total        151 non-null    int64  \n",
      " 6   2018_pop_total        151 non-null    int64  \n",
      " 7   2008_cases_male       151 non-null    int64  \n",
      " 8   2013_cases_male       151 non-null    int64  \n",
      " 9   2018_cases_male       151 non-null    int64  \n",
      " 10  2008_pop_male         151 non-null    int64  \n",
      " 11  2013_pop_male         151 non-null    int64  \n",
      " 12  2018_pop_male         151 non-null    int64  \n",
      " 13  2008_cases_female     151 non-null    int64  \n",
      " 14  2013_cases_female     151 non-null    int64  \n",
      " 15  2018_cases_female     151 non-null    int64  \n",
      " 16  2008_pop_female       151 non-null    int64  \n",
      " 17  2013_pop_female       151 non-null    int64  \n",
      " 18  2018_pop_female       151 non-null    int64  \n",
      " 19  total_budget          151 non-null    int64  \n",
      " 20  clean_air             151 non-null    int64  \n",
      " 21  clean_environ         151 non-null    int64  \n",
      " 22  health_training       151 non-null    int64  \n",
      " 23  school_awareness      151 non-null    int64  \n",
      " 24  media_awareness       151 non-null    int64  \n",
      " 25  sub_counselling       151 non-null    int64  \n",
      " 26  region                151 non-null    object \n",
      " 27  local_authority_type  151 non-null    object \n",
      " 28  prop_2008             151 non-null    float64\n",
      " 29  prop_2013             151 non-null    float64\n",
      " 30  prop_2018             151 non-null    float64\n",
      " 31  change_08_13          151 non-null    float64\n",
      " 32  change_13_18          151 non-null    float64\n",
      " 33  change_08_18          151 non-null    float64\n",
      " 34  male_2008_p           151 non-null    float64\n",
      " 35  male_2013_p           151 non-null    float64\n",
      " 36  male_2018_p           151 non-null    float64\n",
      " 37  female_2008_p         151 non-null    float64\n",
      " 38  female_2013_p         151 non-null    float64\n",
      " 39  female_2018_p         151 non-null    float64\n",
      "dtypes: float64(12), int64(25), object(3)\n",
      "memory usage: 48.4+ KB\n"
     ]
    }
   ],
   "source": [
    "change_08_13_drop = data.drop([0])\n",
    "change_08_13_drop.info()"
   ]
  },
  {
   "cell_type": "code",
   "execution_count": 22,
   "id": "2c29b957-95b1-438d-b399-97315f091f2a",
   "metadata": {
    "collapsed": true,
    "jupyter": {
     "outputs_hidden": true,
     "source_hidden": true
    },
    "tags": []
   },
   "outputs": [
    {
     "data": {
      "text/plain": [
       "0.20331305375785333"
      ]
     },
     "execution_count": 22,
     "metadata": {},
     "output_type": "execute_result"
    },
    {
     "data": {
      "image/png": "[encoded data removed]",
      "text/plain": [
       "<Figure size 360x360 with 1 Axes>"
      ]
     },
     "metadata": {
      "needs_background": "light"
     },
     "output_type": "display_data"
    }
   ],
   "source": [
    "sns.displot(change_08_13_drop['change_08_13'])\n",
    "change_08_13_drop.change_08_13.skew()\n"
   ]
  },
  {
   "cell_type": "code",
   "execution_count": null,
   "id": "bad6a7ff-f746-42a4-b433-e56027e55117",
   "metadata": {
    "jupyter": {
     "source_hidden": true
    },
    "tags": []
   },
   "outputs": [],
   "source": []
  }
 ],
 "metadata": {
  "kernelspec": {
   "display_name": "Python 3 (ipykernel)",
   "language": "python",
   "name": "python3"
  },
  "language_info": {
   "codemirror_mode": {
    "name": "ipython",
    "version": 3
   },
   "file_extension": ".py",
   "mimetype": "text/x-python",
   "name": "python",
   "nbconvert_exporter": "python",
   "pygments_lexer": "ipython3",
   "version": "3.9.6"
  }
 },
 "nbformat": 4,
 "nbformat_minor": 5
}
